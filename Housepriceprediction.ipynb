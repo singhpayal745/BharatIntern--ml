{
 "cells": [
  {
   "cell_type": "code",
   "execution_count": 42,
   "id": "7489f111-72ec-4789-a393-b58825277187",
   "metadata": {},
   "outputs": [],
   "source": [
    "import pandas as pd\n",
    "import numpy as np\n",
    "import seaborn as sn\n",
    "import matplotlib.pyplot as plt"
   ]
  },
  {
   "cell_type": "code",
   "execution_count": 43,
   "id": "ff9eeb65-7bb4-4d97-aa41-7067b0169df2",
   "metadata": {},
   "outputs": [],
   "source": [
    "House=pd.read_csv(\"C:/Users/HP/OneDrive/Desktop/HousePricePrediction.csv\")"
   ]
  },
  {
   "cell_type": "code",
   "execution_count": 45,
   "id": "be8fc340-203e-4d97-b2fd-8d12a3fdeb8a",
   "metadata": {},
   "outputs": [
    {
     "data": {
      "text/html": [
       "<div>\n",
       "<style scoped>\n",
       "    .dataframe tbody tr th:only-of-type {\n",
       "        vertical-align: middle;\n",
       "    }\n",
       "\n",
       "    .dataframe tbody tr th {\n",
       "        vertical-align: top;\n",
       "    }\n",
       "\n",
       "    .dataframe thead th {\n",
       "        text-align: right;\n",
       "    }\n",
       "</style>\n",
       "<table border=\"1\" class=\"dataframe\">\n",
       "  <thead>\n",
       "    <tr style=\"text-align: right;\">\n",
       "      <th></th>\n",
       "      <th>Id</th>\n",
       "      <th>MSSubClass</th>\n",
       "      <th>MSZoning</th>\n",
       "      <th>LotArea</th>\n",
       "      <th>LotConfig</th>\n",
       "      <th>BldgType</th>\n",
       "      <th>OverallCond</th>\n",
       "      <th>YearBuilt</th>\n",
       "      <th>YearRemodAdd</th>\n",
       "      <th>Exterior1st</th>\n",
       "      <th>BsmtFinSF2</th>\n",
       "      <th>TotalBsmtSF</th>\n",
       "      <th>SalePrice</th>\n",
       "    </tr>\n",
       "  </thead>\n",
       "  <tbody>\n",
       "    <tr>\n",
       "      <th>0</th>\n",
       "      <td>0</td>\n",
       "      <td>60</td>\n",
       "      <td>RL</td>\n",
       "      <td>8450</td>\n",
       "      <td>Inside</td>\n",
       "      <td>1Fam</td>\n",
       "      <td>5</td>\n",
       "      <td>2003</td>\n",
       "      <td>2003</td>\n",
       "      <td>VinylSd</td>\n",
       "      <td>0.0</td>\n",
       "      <td>856.0</td>\n",
       "      <td>208500.0</td>\n",
       "    </tr>\n",
       "    <tr>\n",
       "      <th>1</th>\n",
       "      <td>1</td>\n",
       "      <td>20</td>\n",
       "      <td>RL</td>\n",
       "      <td>9600</td>\n",
       "      <td>FR2</td>\n",
       "      <td>1Fam</td>\n",
       "      <td>8</td>\n",
       "      <td>1976</td>\n",
       "      <td>1976</td>\n",
       "      <td>MetalSd</td>\n",
       "      <td>0.0</td>\n",
       "      <td>1262.0</td>\n",
       "      <td>181500.0</td>\n",
       "    </tr>\n",
       "    <tr>\n",
       "      <th>2</th>\n",
       "      <td>2</td>\n",
       "      <td>60</td>\n",
       "      <td>RL</td>\n",
       "      <td>11250</td>\n",
       "      <td>Inside</td>\n",
       "      <td>1Fam</td>\n",
       "      <td>5</td>\n",
       "      <td>2001</td>\n",
       "      <td>2002</td>\n",
       "      <td>VinylSd</td>\n",
       "      <td>0.0</td>\n",
       "      <td>920.0</td>\n",
       "      <td>223500.0</td>\n",
       "    </tr>\n",
       "    <tr>\n",
       "      <th>3</th>\n",
       "      <td>3</td>\n",
       "      <td>70</td>\n",
       "      <td>RL</td>\n",
       "      <td>9550</td>\n",
       "      <td>Corner</td>\n",
       "      <td>1Fam</td>\n",
       "      <td>5</td>\n",
       "      <td>1915</td>\n",
       "      <td>1970</td>\n",
       "      <td>Wd Sdng</td>\n",
       "      <td>0.0</td>\n",
       "      <td>756.0</td>\n",
       "      <td>140000.0</td>\n",
       "    </tr>\n",
       "    <tr>\n",
       "      <th>4</th>\n",
       "      <td>4</td>\n",
       "      <td>60</td>\n",
       "      <td>RL</td>\n",
       "      <td>14260</td>\n",
       "      <td>FR2</td>\n",
       "      <td>1Fam</td>\n",
       "      <td>5</td>\n",
       "      <td>2000</td>\n",
       "      <td>2000</td>\n",
       "      <td>VinylSd</td>\n",
       "      <td>0.0</td>\n",
       "      <td>1145.0</td>\n",
       "      <td>250000.0</td>\n",
       "    </tr>\n",
       "  </tbody>\n",
       "</table>\n",
       "</div>"
      ],
      "text/plain": [
       "   Id  MSSubClass MSZoning  LotArea LotConfig BldgType  OverallCond   \n",
       "0   0          60       RL     8450    Inside     1Fam            5  \\\n",
       "1   1          20       RL     9600       FR2     1Fam            8   \n",
       "2   2          60       RL    11250    Inside     1Fam            5   \n",
       "3   3          70       RL     9550    Corner     1Fam            5   \n",
       "4   4          60       RL    14260       FR2     1Fam            5   \n",
       "\n",
       "   YearBuilt  YearRemodAdd Exterior1st  BsmtFinSF2  TotalBsmtSF  SalePrice  \n",
       "0       2003          2003     VinylSd         0.0        856.0   208500.0  \n",
       "1       1976          1976     MetalSd         0.0       1262.0   181500.0  \n",
       "2       2001          2002     VinylSd         0.0        920.0   223500.0  \n",
       "3       1915          1970     Wd Sdng         0.0        756.0   140000.0  \n",
       "4       2000          2000     VinylSd         0.0       1145.0   250000.0  "
      ]
     },
     "execution_count": 45,
     "metadata": {},
     "output_type": "execute_result"
    }
   ],
   "source": [
    "House.head()"
   ]
  },
  {
   "cell_type": "code",
   "execution_count": 46,
   "id": "35142e5b-11a4-4ba8-9d1e-51d2f3e6f0b0",
   "metadata": {},
   "outputs": [
    {
     "data": {
      "text/plain": [
       "Index(['Id', 'MSSubClass', 'MSZoning', 'LotArea', 'LotConfig', 'BldgType',\n",
       "       'OverallCond', 'YearBuilt', 'YearRemodAdd', 'Exterior1st', 'BsmtFinSF2',\n",
       "       'TotalBsmtSF', 'SalePrice'],\n",
       "      dtype='object')"
      ]
     },
     "execution_count": 46,
     "metadata": {},
     "output_type": "execute_result"
    }
   ],
   "source": [
    "House.columns"
   ]
  },
  {
   "cell_type": "code",
   "execution_count": 47,
   "id": "b7c879a9-f5da-4c22-a604-5c100f58d81e",
   "metadata": {},
   "outputs": [
    {
     "name": "stdout",
     "output_type": "stream",
     "text": [
      "<class 'pandas.core.frame.DataFrame'>\n",
      "RangeIndex: 2919 entries, 0 to 2918\n",
      "Data columns (total 13 columns):\n",
      " #   Column        Non-Null Count  Dtype  \n",
      "---  ------        --------------  -----  \n",
      " 0   Id            2919 non-null   int64  \n",
      " 1   MSSubClass    2919 non-null   int64  \n",
      " 2   MSZoning      2915 non-null   object \n",
      " 3   LotArea       2919 non-null   int64  \n",
      " 4   LotConfig     2919 non-null   object \n",
      " 5   BldgType      2919 non-null   object \n",
      " 6   OverallCond   2919 non-null   int64  \n",
      " 7   YearBuilt     2919 non-null   int64  \n",
      " 8   YearRemodAdd  2919 non-null   int64  \n",
      " 9   Exterior1st   2918 non-null   object \n",
      " 10  BsmtFinSF2    2918 non-null   float64\n",
      " 11  TotalBsmtSF   2918 non-null   float64\n",
      " 12  SalePrice     1460 non-null   float64\n",
      "dtypes: float64(3), int64(6), object(4)\n",
      "memory usage: 296.6+ KB\n"
     ]
    }
   ],
   "source": [
    "House.info()"
   ]
  },
  {
   "cell_type": "markdown",
   "id": "76edc028-2137-41bb-8efd-cfc8ffd8d95e",
   "metadata": {},
   "source": [
    "# DATA PREPROCESS\n"
   ]
  },
  {
   "cell_type": "code",
   "execution_count": 60,
   "id": "9e762f20-b845-498d-b0df-717eb5789ea3",
   "metadata": {},
   "outputs": [
    {
     "data": {
      "text/plain": [
       "Id                 0\n",
       "MSSubClass         0\n",
       "MSZoning           4\n",
       "LotArea            0\n",
       "LotConfig          0\n",
       "BldgType           0\n",
       "OverallCond        0\n",
       "YearBuilt          0\n",
       "YearRemodAdd       0\n",
       "Exterior1st        1\n",
       "BsmtFinSF2         1\n",
       "TotalBsmtSF        1\n",
       "SalePrice       1459\n",
       "dtype: int64"
      ]
     },
     "execution_count": 60,
     "metadata": {},
     "output_type": "execute_result"
    }
   ],
   "source": [
    "# to check if there are null values\n",
    "House.isnull().sum()"
   ]
  },
  {
   "cell_type": "code",
   "execution_count": 57,
   "id": "573e9f46-5e9d-493f-a2dd-ec6c54f916d1",
   "metadata": {},
   "outputs": [
    {
     "data": {
      "text/html": [
       "<div>\n",
       "<style scoped>\n",
       "    .dataframe tbody tr th:only-of-type {\n",
       "        vertical-align: middle;\n",
       "    }\n",
       "\n",
       "    .dataframe tbody tr th {\n",
       "        vertical-align: top;\n",
       "    }\n",
       "\n",
       "    .dataframe thead th {\n",
       "        text-align: right;\n",
       "    }\n",
       "</style>\n",
       "<table border=\"1\" class=\"dataframe\">\n",
       "  <thead>\n",
       "    <tr style=\"text-align: right;\">\n",
       "      <th></th>\n",
       "      <th>Id</th>\n",
       "      <th>MSSubClass</th>\n",
       "      <th>MSZoning</th>\n",
       "      <th>LotArea</th>\n",
       "      <th>LotConfig</th>\n",
       "      <th>BldgType</th>\n",
       "      <th>OverallCond</th>\n",
       "      <th>YearBuilt</th>\n",
       "      <th>YearRemodAdd</th>\n",
       "      <th>Exterior1st</th>\n",
       "      <th>BsmtFinSF2</th>\n",
       "      <th>TotalBsmtSF</th>\n",
       "      <th>SalePrice</th>\n",
       "    </tr>\n",
       "  </thead>\n",
       "  <tbody>\n",
       "    <tr>\n",
       "      <th>2151</th>\n",
       "      <td>2151</td>\n",
       "      <td>30</td>\n",
       "      <td>RL</td>\n",
       "      <td>19550</td>\n",
       "      <td>Inside</td>\n",
       "      <td>1Fam</td>\n",
       "      <td>7</td>\n",
       "      <td>1940</td>\n",
       "      <td>2007</td>\n",
       "      <td>NaN</td>\n",
       "      <td>0.0</td>\n",
       "      <td>1580.0</td>\n",
       "      <td>NaN</td>\n",
       "    </tr>\n",
       "  </tbody>\n",
       "</table>\n",
       "</div>"
      ],
      "text/plain": [
       "        Id  MSSubClass MSZoning  LotArea LotConfig BldgType  OverallCond   \n",
       "2151  2151          30       RL    19550    Inside     1Fam            7  \\\n",
       "\n",
       "      YearBuilt  YearRemodAdd Exterior1st  BsmtFinSF2  TotalBsmtSF  SalePrice  \n",
       "2151       1940          2007         NaN         0.0       1580.0        NaN  "
      ]
     },
     "execution_count": 57,
     "metadata": {},
     "output_type": "execute_result"
    }
   ],
   "source": [
    "House[House['Exterior1st'].isnull()]\n"
   ]
  },
  {
   "cell_type": "code",
   "execution_count": 58,
   "id": "fe086e91-2ba1-475f-8e99-05d2339a33ff",
   "metadata": {},
   "outputs": [
    {
     "data": {
      "text/html": [
       "<div>\n",
       "<style scoped>\n",
       "    .dataframe tbody tr th:only-of-type {\n",
       "        vertical-align: middle;\n",
       "    }\n",
       "\n",
       "    .dataframe tbody tr th {\n",
       "        vertical-align: top;\n",
       "    }\n",
       "\n",
       "    .dataframe thead th {\n",
       "        text-align: right;\n",
       "    }\n",
       "</style>\n",
       "<table border=\"1\" class=\"dataframe\">\n",
       "  <thead>\n",
       "    <tr style=\"text-align: right;\">\n",
       "      <th></th>\n",
       "      <th>Id</th>\n",
       "      <th>MSSubClass</th>\n",
       "      <th>MSZoning</th>\n",
       "      <th>LotArea</th>\n",
       "      <th>LotConfig</th>\n",
       "      <th>BldgType</th>\n",
       "      <th>OverallCond</th>\n",
       "      <th>YearBuilt</th>\n",
       "      <th>YearRemodAdd</th>\n",
       "      <th>Exterior1st</th>\n",
       "      <th>BsmtFinSF2</th>\n",
       "      <th>TotalBsmtSF</th>\n",
       "      <th>SalePrice</th>\n",
       "    </tr>\n",
       "  </thead>\n",
       "  <tbody>\n",
       "    <tr>\n",
       "      <th>2120</th>\n",
       "      <td>2120</td>\n",
       "      <td>20</td>\n",
       "      <td>RM</td>\n",
       "      <td>5940</td>\n",
       "      <td>FR3</td>\n",
       "      <td>1Fam</td>\n",
       "      <td>7</td>\n",
       "      <td>1946</td>\n",
       "      <td>1950</td>\n",
       "      <td>MetalSd</td>\n",
       "      <td>NaN</td>\n",
       "      <td>NaN</td>\n",
       "      <td>NaN</td>\n",
       "    </tr>\n",
       "  </tbody>\n",
       "</table>\n",
       "</div>"
      ],
      "text/plain": [
       "        Id  MSSubClass MSZoning  LotArea LotConfig BldgType  OverallCond   \n",
       "2120  2120          20       RM     5940       FR3     1Fam            7  \\\n",
       "\n",
       "      YearBuilt  YearRemodAdd Exterior1st  BsmtFinSF2  TotalBsmtSF  SalePrice  \n",
       "2120       1946          1950     MetalSd         NaN          NaN        NaN  "
      ]
     },
     "execution_count": 58,
     "metadata": {},
     "output_type": "execute_result"
    }
   ],
   "source": [
    "House[House['BsmtFinSF2'].isnull()]"
   ]
  },
  {
   "cell_type": "code",
   "execution_count": 59,
   "id": "e2ab4202-f5c1-4e15-b509-8a927d6edb2f",
   "metadata": {},
   "outputs": [
    {
     "data": {
      "text/html": [
       "<div>\n",
       "<style scoped>\n",
       "    .dataframe tbody tr th:only-of-type {\n",
       "        vertical-align: middle;\n",
       "    }\n",
       "\n",
       "    .dataframe tbody tr th {\n",
       "        vertical-align: top;\n",
       "    }\n",
       "\n",
       "    .dataframe thead th {\n",
       "        text-align: right;\n",
       "    }\n",
       "</style>\n",
       "<table border=\"1\" class=\"dataframe\">\n",
       "  <thead>\n",
       "    <tr style=\"text-align: right;\">\n",
       "      <th></th>\n",
       "      <th>Id</th>\n",
       "      <th>MSSubClass</th>\n",
       "      <th>MSZoning</th>\n",
       "      <th>LotArea</th>\n",
       "      <th>LotConfig</th>\n",
       "      <th>BldgType</th>\n",
       "      <th>OverallCond</th>\n",
       "      <th>YearBuilt</th>\n",
       "      <th>YearRemodAdd</th>\n",
       "      <th>Exterior1st</th>\n",
       "      <th>BsmtFinSF2</th>\n",
       "      <th>TotalBsmtSF</th>\n",
       "      <th>SalePrice</th>\n",
       "    </tr>\n",
       "  </thead>\n",
       "  <tbody>\n",
       "    <tr>\n",
       "      <th>2120</th>\n",
       "      <td>2120</td>\n",
       "      <td>20</td>\n",
       "      <td>RM</td>\n",
       "      <td>5940</td>\n",
       "      <td>FR3</td>\n",
       "      <td>1Fam</td>\n",
       "      <td>7</td>\n",
       "      <td>1946</td>\n",
       "      <td>1950</td>\n",
       "      <td>MetalSd</td>\n",
       "      <td>NaN</td>\n",
       "      <td>NaN</td>\n",
       "      <td>NaN</td>\n",
       "    </tr>\n",
       "  </tbody>\n",
       "</table>\n",
       "</div>"
      ],
      "text/plain": [
       "        Id  MSSubClass MSZoning  LotArea LotConfig BldgType  OverallCond   \n",
       "2120  2120          20       RM     5940       FR3     1Fam            7  \\\n",
       "\n",
       "      YearBuilt  YearRemodAdd Exterior1st  BsmtFinSF2  TotalBsmtSF  SalePrice  \n",
       "2120       1946          1950     MetalSd         NaN          NaN        NaN  "
      ]
     },
     "execution_count": 59,
     "metadata": {},
     "output_type": "execute_result"
    }
   ],
   "source": [
    "House[House['TotalBsmtSF'].isnull()]"
   ]
  },
  {
   "cell_type": "code",
   "execution_count": 64,
   "id": "76d48aa4-4668-4939-b892-6f00ffd2e18f",
   "metadata": {},
   "outputs": [],
   "source": [
    "#to handle missing values\n",
    "House.dropna(inplace=True)"
   ]
  },
  {
   "cell_type": "code",
   "execution_count": 65,
   "id": "29ffbd20-8ed8-4152-825b-ecb04deb4f7a",
   "metadata": {},
   "outputs": [
    {
     "data": {
      "text/plain": [
       "Id              0\n",
       "MSSubClass      0\n",
       "MSZoning        0\n",
       "LotArea         0\n",
       "LotConfig       0\n",
       "BldgType        0\n",
       "OverallCond     0\n",
       "YearBuilt       0\n",
       "YearRemodAdd    0\n",
       "Exterior1st     0\n",
       "BsmtFinSF2      0\n",
       "TotalBsmtSF     0\n",
       "SalePrice       0\n",
       "dtype: int64"
      ]
     },
     "execution_count": 65,
     "metadata": {},
     "output_type": "execute_result"
    }
   ],
   "source": [
    "House.isnull().sum()"
   ]
  },
  {
   "cell_type": "code",
   "execution_count": 67,
   "id": "dee75cb1-a711-400f-bf99-f76f21227a67",
   "metadata": {},
   "outputs": [
    {
     "data": {
      "text/plain": [
       "(1460, 13)"
      ]
     },
     "execution_count": 67,
     "metadata": {},
     "output_type": "execute_result"
    }
   ],
   "source": [
    "House.shape"
   ]
  },
  {
   "cell_type": "code",
   "execution_count": 68,
   "id": "efc73cd9-5af2-485a-b725-d39002fad1db",
   "metadata": {},
   "outputs": [],
   "source": [
    "# to remove duplicate values\n",
    "count=0\n",
    "r,c=House.shape\n",
    "House.drop_duplicates(inplace=True)\n",
    "\n",
    "\n"
   ]
  },
  {
   "cell_type": "code",
   "execution_count": 69,
   "id": "de4c9294-265d-4388-8afa-4f282ea222db",
   "metadata": {},
   "outputs": [],
   "source": [
    "# to convert data from string type or categorical type to numerical form\n",
    "from sklearn.preprocessing import LabelEncoder\n",
    "category=[\"MSZoning\",\"LotConfig\",\"BldgType\",\"Exterior1st\"]\n",
    "le=LabelEncoder()\n",
    "House[category]=House[category].apply(le.fit_transform)\n"
   ]
  },
  {
   "cell_type": "code",
   "execution_count": 70,
   "id": "176d68bc-e106-4cd5-b95d-7208713601c8",
   "metadata": {},
   "outputs": [
    {
     "data": {
      "text/html": [
       "<div>\n",
       "<style scoped>\n",
       "    .dataframe tbody tr th:only-of-type {\n",
       "        vertical-align: middle;\n",
       "    }\n",
       "\n",
       "    .dataframe tbody tr th {\n",
       "        vertical-align: top;\n",
       "    }\n",
       "\n",
       "    .dataframe thead th {\n",
       "        text-align: right;\n",
       "    }\n",
       "</style>\n",
       "<table border=\"1\" class=\"dataframe\">\n",
       "  <thead>\n",
       "    <tr style=\"text-align: right;\">\n",
       "      <th></th>\n",
       "      <th>Id</th>\n",
       "      <th>MSSubClass</th>\n",
       "      <th>MSZoning</th>\n",
       "      <th>LotArea</th>\n",
       "      <th>LotConfig</th>\n",
       "      <th>BldgType</th>\n",
       "      <th>OverallCond</th>\n",
       "      <th>YearBuilt</th>\n",
       "      <th>YearRemodAdd</th>\n",
       "      <th>Exterior1st</th>\n",
       "      <th>BsmtFinSF2</th>\n",
       "      <th>TotalBsmtSF</th>\n",
       "      <th>SalePrice</th>\n",
       "    </tr>\n",
       "  </thead>\n",
       "  <tbody>\n",
       "    <tr>\n",
       "      <th>0</th>\n",
       "      <td>0</td>\n",
       "      <td>60</td>\n",
       "      <td>3</td>\n",
       "      <td>8450</td>\n",
       "      <td>4</td>\n",
       "      <td>0</td>\n",
       "      <td>5</td>\n",
       "      <td>2003</td>\n",
       "      <td>2003</td>\n",
       "      <td>12</td>\n",
       "      <td>0.0</td>\n",
       "      <td>856.0</td>\n",
       "      <td>208500.0</td>\n",
       "    </tr>\n",
       "    <tr>\n",
       "      <th>1</th>\n",
       "      <td>1</td>\n",
       "      <td>20</td>\n",
       "      <td>3</td>\n",
       "      <td>9600</td>\n",
       "      <td>2</td>\n",
       "      <td>0</td>\n",
       "      <td>8</td>\n",
       "      <td>1976</td>\n",
       "      <td>1976</td>\n",
       "      <td>8</td>\n",
       "      <td>0.0</td>\n",
       "      <td>1262.0</td>\n",
       "      <td>181500.0</td>\n",
       "    </tr>\n",
       "    <tr>\n",
       "      <th>2</th>\n",
       "      <td>2</td>\n",
       "      <td>60</td>\n",
       "      <td>3</td>\n",
       "      <td>11250</td>\n",
       "      <td>4</td>\n",
       "      <td>0</td>\n",
       "      <td>5</td>\n",
       "      <td>2001</td>\n",
       "      <td>2002</td>\n",
       "      <td>12</td>\n",
       "      <td>0.0</td>\n",
       "      <td>920.0</td>\n",
       "      <td>223500.0</td>\n",
       "    </tr>\n",
       "    <tr>\n",
       "      <th>3</th>\n",
       "      <td>3</td>\n",
       "      <td>70</td>\n",
       "      <td>3</td>\n",
       "      <td>9550</td>\n",
       "      <td>0</td>\n",
       "      <td>0</td>\n",
       "      <td>5</td>\n",
       "      <td>1915</td>\n",
       "      <td>1970</td>\n",
       "      <td>13</td>\n",
       "      <td>0.0</td>\n",
       "      <td>756.0</td>\n",
       "      <td>140000.0</td>\n",
       "    </tr>\n",
       "    <tr>\n",
       "      <th>4</th>\n",
       "      <td>4</td>\n",
       "      <td>60</td>\n",
       "      <td>3</td>\n",
       "      <td>14260</td>\n",
       "      <td>2</td>\n",
       "      <td>0</td>\n",
       "      <td>5</td>\n",
       "      <td>2000</td>\n",
       "      <td>2000</td>\n",
       "      <td>12</td>\n",
       "      <td>0.0</td>\n",
       "      <td>1145.0</td>\n",
       "      <td>250000.0</td>\n",
       "    </tr>\n",
       "  </tbody>\n",
       "</table>\n",
       "</div>"
      ],
      "text/plain": [
       "   Id  MSSubClass  MSZoning  LotArea  LotConfig  BldgType  OverallCond   \n",
       "0   0          60         3     8450          4         0            5  \\\n",
       "1   1          20         3     9600          2         0            8   \n",
       "2   2          60         3    11250          4         0            5   \n",
       "3   3          70         3     9550          0         0            5   \n",
       "4   4          60         3    14260          2         0            5   \n",
       "\n",
       "   YearBuilt  YearRemodAdd  Exterior1st  BsmtFinSF2  TotalBsmtSF  SalePrice  \n",
       "0       2003          2003           12         0.0        856.0   208500.0  \n",
       "1       1976          1976            8         0.0       1262.0   181500.0  \n",
       "2       2001          2002           12         0.0        920.0   223500.0  \n",
       "3       1915          1970           13         0.0        756.0   140000.0  \n",
       "4       2000          2000           12         0.0       1145.0   250000.0  "
      ]
     },
     "execution_count": 70,
     "metadata": {},
     "output_type": "execute_result"
    }
   ],
   "source": [
    "# after conversion data is \n",
    "House.head()"
   ]
  },
  {
   "cell_type": "code",
   "execution_count": 100,
   "id": "e027a9c2-dd2d-47ab-8891-92dea5864b83",
   "metadata": {},
   "outputs": [
    {
     "data": {
      "text/plain": [
       "<Axes: >"
      ]
     },
     "execution_count": 100,
     "metadata": {},
     "output_type": "execute_result"
    },
    {
     "data": {
      "image/png": "[encoded data removed]",
      "text/plain": [
       "<Figure size 1200x600 with 2 Axes>"
      ]
     },
     "metadata": {},
     "output_type": "display_data"
    }
   ],
   "source": [
    "plt.figure(figsize=(12,6))\n",
    "sn.heatmap(House.corr(),annot=True)"
   ]
  },
  {
   "cell_type": "markdown",
   "id": "db5388e3-a694-4514-984f-64631f7045ee",
   "metadata": {},
   "source": [
    "# Split dataset"
   ]
  },
  {
   "cell_type": "code",
   "execution_count": 72,
   "id": "2803ce48-6fd1-48fa-9a96-8158ff147179",
   "metadata": {},
   "outputs": [],
   "source": [
    "X=House.drop(['SalePrice'],axis=1)\n",
    "y=House['SalePrice']"
   ]
  },
  {
   "cell_type": "code",
   "execution_count": 73,
   "id": "08c20ad6-75e5-48f8-9cee-887d7f0f9835",
   "metadata": {},
   "outputs": [],
   "source": [
    "from sklearn.model_selection import train_test_split"
   ]
  },
  {
   "cell_type": "code",
   "execution_count": 75,
   "id": "a1680b07-4d46-4571-a1b4-55d068db591c",
   "metadata": {},
   "outputs": [],
   "source": [
    " X_train, X_test, y_train, y_test = train_test_split(X, y, test_size=0.40, random_state=45)"
   ]
  },
  {
   "cell_type": "code",
   "execution_count": 76,
   "id": "49837a3d-bda2-4ae6-a4d4-5d63cd02731c",
   "metadata": {},
   "outputs": [
    {
     "data": {
      "text/html": [
       "<div>\n",
       "<style scoped>\n",
       "    .dataframe tbody tr th:only-of-type {\n",
       "        vertical-align: middle;\n",
       "    }\n",
       "\n",
       "    .dataframe tbody tr th {\n",
       "        vertical-align: top;\n",
       "    }\n",
       "\n",
       "    .dataframe thead th {\n",
       "        text-align: right;\n",
       "    }\n",
       "</style>\n",
       "<table border=\"1\" class=\"dataframe\">\n",
       "  <thead>\n",
       "    <tr style=\"text-align: right;\">\n",
       "      <th></th>\n",
       "      <th>Id</th>\n",
       "      <th>MSSubClass</th>\n",
       "      <th>MSZoning</th>\n",
       "      <th>LotArea</th>\n",
       "      <th>LotConfig</th>\n",
       "      <th>BldgType</th>\n",
       "      <th>OverallCond</th>\n",
       "      <th>YearBuilt</th>\n",
       "      <th>YearRemodAdd</th>\n",
       "      <th>Exterior1st</th>\n",
       "      <th>BsmtFinSF2</th>\n",
       "      <th>TotalBsmtSF</th>\n",
       "    </tr>\n",
       "  </thead>\n",
       "  <tbody>\n",
       "    <tr>\n",
       "      <th>657</th>\n",
       "      <td>657</td>\n",
       "      <td>70</td>\n",
       "      <td>3</td>\n",
       "      <td>7200</td>\n",
       "      <td>4</td>\n",
       "      <td>0</td>\n",
       "      <td>6</td>\n",
       "      <td>1931</td>\n",
       "      <td>2000</td>\n",
       "      <td>11</td>\n",
       "      <td>0.0</td>\n",
       "      <td>776.0</td>\n",
       "    </tr>\n",
       "    <tr>\n",
       "      <th>1198</th>\n",
       "      <td>1198</td>\n",
       "      <td>20</td>\n",
       "      <td>3</td>\n",
       "      <td>9100</td>\n",
       "      <td>4</td>\n",
       "      <td>0</td>\n",
       "      <td>5</td>\n",
       "      <td>2001</td>\n",
       "      <td>2001</td>\n",
       "      <td>12</td>\n",
       "      <td>0.0</td>\n",
       "      <td>1212.0</td>\n",
       "    </tr>\n",
       "    <tr>\n",
       "      <th>1438</th>\n",
       "      <td>1438</td>\n",
       "      <td>20</td>\n",
       "      <td>4</td>\n",
       "      <td>7407</td>\n",
       "      <td>4</td>\n",
       "      <td>0</td>\n",
       "      <td>7</td>\n",
       "      <td>1957</td>\n",
       "      <td>1996</td>\n",
       "      <td>8</td>\n",
       "      <td>0.0</td>\n",
       "      <td>912.0</td>\n",
       "    </tr>\n",
       "    <tr>\n",
       "      <th>1087</th>\n",
       "      <td>1087</td>\n",
       "      <td>60</td>\n",
       "      <td>1</td>\n",
       "      <td>10574</td>\n",
       "      <td>4</td>\n",
       "      <td>0</td>\n",
       "      <td>5</td>\n",
       "      <td>2005</td>\n",
       "      <td>2006</td>\n",
       "      <td>12</td>\n",
       "      <td>0.0</td>\n",
       "      <td>1082.0</td>\n",
       "    </tr>\n",
       "    <tr>\n",
       "      <th>298</th>\n",
       "      <td>298</td>\n",
       "      <td>60</td>\n",
       "      <td>3</td>\n",
       "      <td>11700</td>\n",
       "      <td>4</td>\n",
       "      <td>0</td>\n",
       "      <td>6</td>\n",
       "      <td>1968</td>\n",
       "      <td>1968</td>\n",
       "      <td>6</td>\n",
       "      <td>175.0</td>\n",
       "      <td>702.0</td>\n",
       "    </tr>\n",
       "    <tr>\n",
       "      <th>...</th>\n",
       "      <td>...</td>\n",
       "      <td>...</td>\n",
       "      <td>...</td>\n",
       "      <td>...</td>\n",
       "      <td>...</td>\n",
       "      <td>...</td>\n",
       "      <td>...</td>\n",
       "      <td>...</td>\n",
       "      <td>...</td>\n",
       "      <td>...</td>\n",
       "      <td>...</td>\n",
       "      <td>...</td>\n",
       "    </tr>\n",
       "    <tr>\n",
       "      <th>580</th>\n",
       "      <td>580</td>\n",
       "      <td>20</td>\n",
       "      <td>3</td>\n",
       "      <td>14585</td>\n",
       "      <td>1</td>\n",
       "      <td>0</td>\n",
       "      <td>6</td>\n",
       "      <td>1960</td>\n",
       "      <td>1987</td>\n",
       "      <td>13</td>\n",
       "      <td>219.0</td>\n",
       "      <td>1144.0</td>\n",
       "    </tr>\n",
       "    <tr>\n",
       "      <th>163</th>\n",
       "      <td>163</td>\n",
       "      <td>45</td>\n",
       "      <td>3</td>\n",
       "      <td>5500</td>\n",
       "      <td>4</td>\n",
       "      <td>0</td>\n",
       "      <td>6</td>\n",
       "      <td>1956</td>\n",
       "      <td>1956</td>\n",
       "      <td>8</td>\n",
       "      <td>0.0</td>\n",
       "      <td>882.0</td>\n",
       "    </tr>\n",
       "    <tr>\n",
       "      <th>607</th>\n",
       "      <td>607</td>\n",
       "      <td>20</td>\n",
       "      <td>3</td>\n",
       "      <td>7800</td>\n",
       "      <td>4</td>\n",
       "      <td>0</td>\n",
       "      <td>8</td>\n",
       "      <td>1948</td>\n",
       "      <td>2002</td>\n",
       "      <td>8</td>\n",
       "      <td>0.0</td>\n",
       "      <td>896.0</td>\n",
       "    </tr>\n",
       "    <tr>\n",
       "      <th>414</th>\n",
       "      <td>414</td>\n",
       "      <td>60</td>\n",
       "      <td>3</td>\n",
       "      <td>11228</td>\n",
       "      <td>1</td>\n",
       "      <td>0</td>\n",
       "      <td>5</td>\n",
       "      <td>1993</td>\n",
       "      <td>1993</td>\n",
       "      <td>12</td>\n",
       "      <td>531.0</td>\n",
       "      <td>1080.0</td>\n",
       "    </tr>\n",
       "    <tr>\n",
       "      <th>971</th>\n",
       "      <td>971</td>\n",
       "      <td>160</td>\n",
       "      <td>3</td>\n",
       "      <td>2268</td>\n",
       "      <td>4</td>\n",
       "      <td>3</td>\n",
       "      <td>5</td>\n",
       "      <td>2003</td>\n",
       "      <td>2004</td>\n",
       "      <td>12</td>\n",
       "      <td>0.0</td>\n",
       "      <td>764.0</td>\n",
       "    </tr>\n",
       "  </tbody>\n",
       "</table>\n",
       "<p>876 rows × 12 columns</p>\n",
       "</div>"
      ],
      "text/plain": [
       "        Id  MSSubClass  MSZoning  LotArea  LotConfig  BldgType  OverallCond   \n",
       "657    657          70         3     7200          4         0            6  \\\n",
       "1198  1198          20         3     9100          4         0            5   \n",
       "1438  1438          20         4     7407          4         0            7   \n",
       "1087  1087          60         1    10574          4         0            5   \n",
       "298    298          60         3    11700          4         0            6   \n",
       "...    ...         ...       ...      ...        ...       ...          ...   \n",
       "580    580          20         3    14585          1         0            6   \n",
       "163    163          45         3     5500          4         0            6   \n",
       "607    607          20         3     7800          4         0            8   \n",
       "414    414          60         3    11228          1         0            5   \n",
       "971    971         160         3     2268          4         3            5   \n",
       "\n",
       "      YearBuilt  YearRemodAdd  Exterior1st  BsmtFinSF2  TotalBsmtSF  \n",
       "657        1931          2000           11         0.0        776.0  \n",
       "1198       2001          2001           12         0.0       1212.0  \n",
       "1438       1957          1996            8         0.0        912.0  \n",
       "1087       2005          2006           12         0.0       1082.0  \n",
       "298        1968          1968            6       175.0        702.0  \n",
       "...         ...           ...          ...         ...          ...  \n",
       "580        1960          1987           13       219.0       1144.0  \n",
       "163        1956          1956            8         0.0        882.0  \n",
       "607        1948          2002            8         0.0        896.0  \n",
       "414        1993          1993           12       531.0       1080.0  \n",
       "971        2003          2004           12         0.0        764.0  \n",
       "\n",
       "[876 rows x 12 columns]"
      ]
     },
     "execution_count": 76,
     "metadata": {},
     "output_type": "execute_result"
    }
   ],
   "source": [
    "X_train"
   ]
  },
  {
   "cell_type": "markdown",
   "id": "9bbd1f02-bc97-405d-966b-0fc7cddad7ee",
   "metadata": {},
   "source": [
    "# Linear Regression "
   ]
  },
  {
   "cell_type": "code",
   "execution_count": 77,
   "id": "62397cfd-bfd1-4929-a65b-b9d28891b891",
   "metadata": {},
   "outputs": [],
   "source": [
    "from sklearn.linear_model import LinearRegression"
   ]
  },
  {
   "cell_type": "code",
   "execution_count": 80,
   "id": "3bac18ef-40f5-41be-a940-0e9515932dcb",
   "metadata": {},
   "outputs": [],
   "source": [
    "lr=LinearRegression()"
   ]
  },
  {
   "cell_type": "code",
   "execution_count": 81,
   "id": "2d2da13a-9c1c-4ce7-8350-50f858c72c5b",
   "metadata": {},
   "outputs": [
    {
     "data": {
      "text/html": [
       "<style>#sk-container-id-2 {color: black;background-color: white;}#sk-container-id-2 pre{padding: 0;}#sk-container-id-2 div.sk-toggleable {background-color: white;}#sk-container-id-2 label.sk-toggleable__label {cursor: pointer;display: block;width: 100%;margin-bottom: 0;padding: 0.3em;box-sizing: border-box;text-align: center;}#sk-container-id-2 label.sk-toggleable__label-arrow:before {content: \"▸\";float: left;margin-right: 0.25em;color: #696969;}#sk-container-id-2 label.sk-toggleable__label-arrow:hover:before {color: black;}#sk-container-id-2 div.sk-estimator:hover label.sk-toggleable__label-arrow:before {color: black;}#sk-container-id-2 div.sk-toggleable__content {max-height: 0;max-width: 0;overflow: hidden;text-align: left;background-color: #f0f8ff;}#sk-container-id-2 div.sk-toggleable__content pre {margin: 0.2em;color: black;border-radius: 0.25em;background-color: #f0f8ff;}#sk-container-id-2 input.sk-toggleable__control:checked~div.sk-toggleable__content {max-height: 200px;max-width: 100%;overflow: auto;}#sk-container-id-2 input.sk-toggleable__control:checked~label.sk-toggleable__label-arrow:before {content: \"▾\";}#sk-container-id-2 div.sk-estimator input.sk-toggleable__control:checked~label.sk-toggleable__label {background-color: #d4ebff;}#sk-container-id-2 div.sk-label input.sk-toggleable__control:checked~label.sk-toggleable__label {background-color: #d4ebff;}#sk-container-id-2 input.sk-hidden--visually {border: 0;clip: rect(1px 1px 1px 1px);clip: rect(1px, 1px, 1px, 1px);height: 1px;margin: -1px;overflow: hidden;padding: 0;position: absolute;width: 1px;}#sk-container-id-2 div.sk-estimator {font-family: monospace;background-color: #f0f8ff;border: 1px dotted black;border-radius: 0.25em;box-sizing: border-box;margin-bottom: 0.5em;}#sk-container-id-2 div.sk-estimator:hover {background-color: #d4ebff;}#sk-container-id-2 div.sk-parallel-item::after {content: \"\";width: 100%;border-bottom: 1px solid gray;flex-grow: 1;}#sk-container-id-2 div.sk-label:hover label.sk-toggleable__label {background-color: #d4ebff;}#sk-container-id-2 div.sk-serial::before {content: \"\";position: absolute;border-left: 1px solid gray;box-sizing: border-box;top: 0;bottom: 0;left: 50%;z-index: 0;}#sk-container-id-2 div.sk-serial {display: flex;flex-direction: column;align-items: center;background-color: white;padding-right: 0.2em;padding-left: 0.2em;position: relative;}#sk-container-id-2 div.sk-item {position: relative;z-index: 1;}#sk-container-id-2 div.sk-parallel {display: flex;align-items: stretch;justify-content: center;background-color: white;position: relative;}#sk-container-id-2 div.sk-item::before, #sk-container-id-2 div.sk-parallel-item::before {content: \"\";position: absolute;border-left: 1px solid gray;box-sizing: border-box;top: 0;bottom: 0;left: 50%;z-index: -1;}#sk-container-id-2 div.sk-parallel-item {display: flex;flex-direction: column;z-index: 1;position: relative;background-color: white;}#sk-container-id-2 div.sk-parallel-item:first-child::after {align-self: flex-end;width: 50%;}#sk-container-id-2 div.sk-parallel-item:last-child::after {align-self: flex-start;width: 50%;}#sk-container-id-2 div.sk-parallel-item:only-child::after {width: 0;}#sk-container-id-2 div.sk-dashed-wrapped {border: 1px dashed gray;margin: 0 0.4em 0.5em 0.4em;box-sizing: border-box;padding-bottom: 0.4em;background-color: white;}#sk-container-id-2 div.sk-label label {font-family: monospace;font-weight: bold;display: inline-block;line-height: 1.2em;}#sk-container-id-2 div.sk-label-container {text-align: center;}#sk-container-id-2 div.sk-container {/* jupyter's `normalize.less` sets `[hidden] { display: none; }` but bootstrap.min.css set `[hidden] { display: none !important; }` so we also need the `!important` here to be able to override the default hidden behavior on the sphinx rendered scikit-learn.org. See: https://github.com/scikit-learn/scikit-learn/issues/21755 */display: inline-block !important;position: relative;}#sk-container-id-2 div.sk-text-repr-fallback {display: none;}</style><div id=\"sk-container-id-2\" class=\"sk-top-container\"><div class=\"sk-text-repr-fallback\"><pre>LinearRegression()</pre><b>In a Jupyter environment, please rerun this cell to show the HTML representation or trust the notebook. <br />On GitHub, the HTML representation is unable to render, please try loading this page with nbviewer.org.</b></div><div class=\"sk-container\" hidden><div class=\"sk-item\"><div class=\"sk-estimator sk-toggleable\"><input class=\"sk-toggleable__control sk-hidden--visually\" id=\"sk-estimator-id-2\" type=\"checkbox\" checked><label for=\"sk-estimator-id-2\" class=\"sk-toggleable__label sk-toggleable__label-arrow\">LinearRegression</label><div class=\"sk-toggleable__content\"><pre>LinearRegression()</pre></div></div></div></div></div>"
      ],
      "text/plain": [
       "LinearRegression()"
      ]
     },
     "execution_count": 81,
     "metadata": {},
     "output_type": "execute_result"
    }
   ],
   "source": [
    "# training model:\n",
    "lr.fit(X_train,y_train)"
   ]
  },
  {
   "cell_type": "code",
   "execution_count": 85,
   "id": "71e919b0-691a-4548-b712-0a0d6c729729",
   "metadata": {},
   "outputs": [],
   "source": [
    "coeff_df=pd.DataFrame(lr.coef_,X.columns,columns=['Coefficient'])"
   ]
  },
  {
   "cell_type": "code",
   "execution_count": 86,
   "id": "f481f203-50b0-4027-8051-e49609f216a1",
   "metadata": {},
   "outputs": [
    {
     "data": {
      "text/html": [
       "<div>\n",
       "<style scoped>\n",
       "    .dataframe tbody tr th:only-of-type {\n",
       "        vertical-align: middle;\n",
       "    }\n",
       "\n",
       "    .dataframe tbody tr th {\n",
       "        vertical-align: top;\n",
       "    }\n",
       "\n",
       "    .dataframe thead th {\n",
       "        text-align: right;\n",
       "    }\n",
       "</style>\n",
       "<table border=\"1\" class=\"dataframe\">\n",
       "  <thead>\n",
       "    <tr style=\"text-align: right;\">\n",
       "      <th></th>\n",
       "      <th>Coefficient</th>\n",
       "    </tr>\n",
       "  </thead>\n",
       "  <tbody>\n",
       "    <tr>\n",
       "      <th>Id</th>\n",
       "      <td>0.028236</td>\n",
       "    </tr>\n",
       "    <tr>\n",
       "      <th>MSSubClass</th>\n",
       "      <td>489.116435</td>\n",
       "    </tr>\n",
       "    <tr>\n",
       "      <th>MSZoning</th>\n",
       "      <td>-1273.757966</td>\n",
       "    </tr>\n",
       "    <tr>\n",
       "      <th>LotArea</th>\n",
       "      <td>0.906604</td>\n",
       "    </tr>\n",
       "    <tr>\n",
       "      <th>LotConfig</th>\n",
       "      <td>-416.038387</td>\n",
       "    </tr>\n",
       "    <tr>\n",
       "      <th>BldgType</th>\n",
       "      <td>-21231.703498</td>\n",
       "    </tr>\n",
       "    <tr>\n",
       "      <th>OverallCond</th>\n",
       "      <td>6057.625918</td>\n",
       "    </tr>\n",
       "    <tr>\n",
       "      <th>YearBuilt</th>\n",
       "      <td>819.805506</td>\n",
       "    </tr>\n",
       "    <tr>\n",
       "      <th>YearRemodAdd</th>\n",
       "      <td>750.705185</td>\n",
       "    </tr>\n",
       "    <tr>\n",
       "      <th>Exterior1st</th>\n",
       "      <td>-433.140476</td>\n",
       "    </tr>\n",
       "    <tr>\n",
       "      <th>BsmtFinSF2</th>\n",
       "      <td>-22.463554</td>\n",
       "    </tr>\n",
       "    <tr>\n",
       "      <th>TotalBsmtSF</th>\n",
       "      <td>84.021663</td>\n",
       "    </tr>\n",
       "  </tbody>\n",
       "</table>\n",
       "</div>"
      ],
      "text/plain": [
       "               Coefficient\n",
       "Id                0.028236\n",
       "MSSubClass      489.116435\n",
       "MSZoning      -1273.757966\n",
       "LotArea           0.906604\n",
       "LotConfig      -416.038387\n",
       "BldgType     -21231.703498\n",
       "OverallCond    6057.625918\n",
       "YearBuilt       819.805506\n",
       "YearRemodAdd    750.705185\n",
       "Exterior1st    -433.140476\n",
       "BsmtFinSF2      -22.463554\n",
       "TotalBsmtSF      84.021663"
      ]
     },
     "execution_count": 86,
     "metadata": {},
     "output_type": "execute_result"
    }
   ],
   "source": [
    "coeff_df"
   ]
  },
  {
   "cell_type": "code",
   "execution_count": 89,
   "id": "1c99d6ca-c63d-4abe-8fd3-2fcf100b08db",
   "metadata": {},
   "outputs": [],
   "source": [
    "y_predict=lr.predict(X_test)"
   ]
  },
  {
   "cell_type": "code",
   "execution_count": 91,
   "id": "4cd20f4b-6cfa-471b-9832-cabbc553827c",
   "metadata": {},
   "outputs": [
    {
     "data": {
      "text/plain": [
       "array([161452.75424409,  95361.72650755, 230168.51136955, 232002.5923361 ,\n",
       "       188961.52159608, 153559.24907901, 265688.69449303, 217086.7137851 ,\n",
       "       227351.40165718, 214783.09724737, 121506.48986114, 172449.55130796,\n",
       "        93367.92106843, 132988.09435204, 243883.5416834 , 227931.65470921,\n",
       "       200549.16212714, 163159.14954042, 116830.3255327 , 248314.20640123,\n",
       "       159180.43735904, 243174.3699535 , 237216.23400144, 143270.20224764,\n",
       "       244338.90674902, 163809.77958213, 199746.75858081, 222095.75638045,\n",
       "       120494.90298587, 167438.10601956, 149625.40358283, 140173.17520955,\n",
       "       218432.57726156,  89384.90185775, 209769.66891121, 178704.38687449,\n",
       "       124490.35437399,  73469.20289257, 256789.96856492, 191003.38231954,\n",
       "       173521.31821364, 252433.50970623, 246200.66222437, 194411.28540761,\n",
       "       214621.78917651, 198467.73071696, 161065.75659179, 100946.8091577 ,\n",
       "       329810.57203003,  79886.16696361, 231499.2501925 , 214469.46855189,\n",
       "       270210.54414411, 157174.31959831,  93437.57909402, 259265.73811312,\n",
       "       210699.8630249 , 176002.41719494,  79562.7933304 , 288828.7342554 ,\n",
       "       229936.08954747, 207127.96612861, 198121.70323458, 129744.78371592,\n",
       "       147181.95025113, 165080.32741173,  81554.41960415, 179442.38656754,\n",
       "       120105.22726892, 249360.89552596, 271557.94788473, 271732.1221883 ,\n",
       "       197819.99858796, 381495.35127769, 165055.55147967, 275093.08817386,\n",
       "       274768.85984595, 257154.82777344, 164271.10450781, 278658.6853732 ,\n",
       "       174977.88255372, 171141.02088884, 202779.3654802 , 191953.27092536,\n",
       "       130155.97997206, 112905.537055  , 157825.3916891 , 121562.78134627,\n",
       "       152241.60857061, 190025.60349855, 149362.79313717, 228939.95391331,\n",
       "       213667.18425955, 178006.63190648, 140127.47191648, 154859.2026152 ,\n",
       "       117568.63357591, 255120.89920199, 162995.56311918, 141214.13817122,\n",
       "       283499.53402969, 163850.81559228,  98815.89183505, 156923.26802204,\n",
       "       233236.39581189, 154995.04805094, 213862.67844887, 247920.84206262,\n",
       "       178773.87233491, 224442.31081376, 254933.8575964 , 164858.21924079,\n",
       "       131712.19990947, 200906.65024427, 133422.26036933, 191933.29356523,\n",
       "       151847.88191494,  77893.43734289,  92308.93656115, 129761.04650554,\n",
       "        90536.41543517, 156912.89773559, 112427.12019433,  71338.54869477,\n",
       "       124942.64059585, 148681.83273728, 112291.82742843, 322794.56985633,\n",
       "       148321.17839939, 114189.22766506, 119727.17869585, 186938.56654583,\n",
       "       183970.34459125, 147917.15942512, 129022.81235433,  94815.48011518,\n",
       "        71153.9215526 ,  93574.35402251, 169770.56195686, 130412.53663812,\n",
       "       181484.25175266, 210349.78796672, 214084.1425132 , 209210.3987876 ,\n",
       "       151805.23067019, 131633.34663415, 136823.35430263, 199399.87673653,\n",
       "        74832.14989004, 127948.61588327, 370234.40236778,  93327.40598941,\n",
       "       161559.8948863 , 153100.89915505, 217309.46728931, 100153.23674815,\n",
       "       243496.24336429, 194879.98164248, 132255.26993662, 183176.58760245,\n",
       "       166050.1424171 , 171503.81448831, 106199.84851323, 119435.95766159,\n",
       "       259819.84440533, 196261.06149654, 195668.26921423, 145585.53317834,\n",
       "       182947.72945466, 236579.77646878, 218730.58847009, 183390.97213924,\n",
       "       185309.64082433, 203353.73304695,  27604.66497255, 218875.50863656,\n",
       "       153614.37931027, 150713.15797809, 233432.29483067, 239861.06415371,\n",
       "       202156.30725138, 314057.04099797, 235556.56905817, 206779.20982209,\n",
       "       221741.0100085 , 194368.43357626, 219716.8336625 , 151774.45169483,\n",
       "       280134.63297054, 293693.87714107, 173841.89801479,  29968.94754811,\n",
       "       188404.99505288, 261129.61458447, 122373.23293013, 239979.8885105 ,\n",
       "       201841.74894489, 181907.27865474,  38850.29809053, 222067.23667526,\n",
       "       210933.39865527, 174446.65410494, 172063.94883173, 252872.94822944,\n",
       "       207210.04330718, 211822.82137891, 120357.92042379, 293359.03317207,\n",
       "       195987.04878443, 156289.41757775, 210906.70531743, 211984.81415288,\n",
       "       187912.04909721, 132357.43319273, 185274.17781052, 268910.10903018,\n",
       "       291675.19344906, 226955.93199292, 275001.83638914, 282284.32440287,\n",
       "        72323.0971817 , 214557.61326892, 164486.61202353, 169848.11776257,\n",
       "       126856.25149239, 143037.29598616, 115551.09857435, 157022.31816237,\n",
       "       155515.93960605, 159695.99687017, 235646.3802593 , 136992.71384436,\n",
       "       223101.75621935, 272554.97194317, 169366.89690712, 157108.20947948,\n",
       "       225977.1007725 , 135110.33171305, 179578.84448716, 133634.12166243,\n",
       "       168409.49116688,  98491.13158997, 186915.6813615 , 313920.88508434,\n",
       "       189903.17741157, 261929.6006439 , 237962.26552251, 167024.42343371,\n",
       "       291027.20072747, 168829.3563463 , 106505.05586006, 269194.9008405 ,\n",
       "       183134.93622869, 228471.01797317, 271313.30200697, 162829.80563984,\n",
       "       167230.8759337 ,  90169.9131713 , 145205.54203071, 179165.19403236,\n",
       "       299249.54074212, 208274.05333341, 151363.75275434, 210235.65555205,\n",
       "       215071.38335856,  73147.92865809, 209162.52586039, 188929.13562127,\n",
       "       169264.90350236, 196160.51585461, 190743.96766167, 148743.64065302,\n",
       "       193753.98663474, 149791.62347176, 221855.71847479, 228945.24748439,\n",
       "       175714.48141547, 203562.52375599, 216348.73850902, 200656.2522307 ,\n",
       "       148506.68672554,  17701.92175814, 112190.73788264, 247367.55574334,\n",
       "       215917.14037112, 173610.8909713 , 212488.59884807, 124085.16413926,\n",
       "       224312.28967487, 155696.40747994, 116103.55704271, 114064.21234726,\n",
       "       155101.42009116, 113539.35607061, 175791.48647231, 210157.10530138,\n",
       "       175203.68117151, 274466.18699584, 340998.17222623, 231484.76304648,\n",
       "       119265.08354009, 113288.28648956, 143128.44577162, 268245.32230251,\n",
       "       183754.10036479, 187751.57296675, 210711.81818352, 195018.6815173 ,\n",
       "       158743.32258657, 202396.75882866, 220266.89036294, 112034.89889148,\n",
       "       139874.91066409, 192206.83844983, 211462.41288516, 214231.78348736,\n",
       "       143617.40381227, 220277.14181873, 142723.33057533, 251204.11227084,\n",
       "        68902.37507356, 114405.7549149 , 259949.73449582, 175970.28060287,\n",
       "       130595.63168335, 243539.69488943, 211126.45022279, 192650.12325141,\n",
       "       102814.63765166, 151349.45689028, 115751.38893993,  33782.41568769,\n",
       "       148488.01599313, 195508.3911437 , 258715.02952558, 206553.65480329,\n",
       "       278351.82375495, 196860.40587264, 142350.37670099, 252591.67633622,\n",
       "        50377.93142117, 163750.37446887, 157300.31188712, 205176.76760765,\n",
       "       198035.54460847, 184521.90971705, 131335.13644806, 122735.94609545,\n",
       "       243911.60936851, 296097.74951018, 102968.42634321, 218399.63220555,\n",
       "       150938.92356291, 188890.53581041, 202246.73524426, 239362.68776684,\n",
       "       221962.14142165, 324985.30842999, 190356.46454325, 164078.73151472,\n",
       "       173607.66328659, 293662.2038484 , 163975.31899243, 210747.39017731,\n",
       "       134196.77932054, 180895.62193381, 227411.26222734, 258290.12293934,\n",
       "       171575.07902401, 202652.40159423, 271436.75357014, 163545.07757977,\n",
       "        72937.48028192, 237265.00870971, 162583.11429558, 264909.49863494,\n",
       "       303554.63518761,  94799.66094598, 250013.25064815, 264211.19818005,\n",
       "        84257.51775022, 231149.99876709, 157583.61806892, 155459.19188234,\n",
       "       215563.76887836, 244500.83443041, 113471.45332198, 206276.04722764,\n",
       "       199891.86102801, 204687.55287428, 309890.89817526, 212151.90433809,\n",
       "       126401.13704006, 200681.52385205, 219790.94386256, 147933.11278716,\n",
       "       101898.63605773, 146379.16547865, 177683.70037394,  99829.85498312,\n",
       "       218825.31681635, 207735.59446278, 238736.0524902 ,  73555.09172903,\n",
       "        77290.10518184, 148273.60027402, 273164.39969781, 105760.40725422,\n",
       "       168304.33301922, 181579.86748197, 220874.22135997, 144339.18965851,\n",
       "       209968.33646124,  57581.20831801,  92183.0766973 , 260068.78023164,\n",
       "        38696.79713808, 219959.48685372, 180392.24553508, 202201.81393057,\n",
       "       107219.43409644, 221952.70818291, 168804.66097548, 102203.39469067,\n",
       "       135157.87253812, 219989.81025579, 127650.586508  , 139008.93181473,\n",
       "       223350.26565045, 412205.32630136, 188547.64330548, 199136.17032107,\n",
       "       161344.78122644,  91536.04011522, 158127.78315009, 174305.48589127,\n",
       "       113768.52634763, 133436.28266769,  89554.51571449, 167842.37972225,\n",
       "       155769.20152024, 143786.20399918, 220488.79073854, 141525.24323517,\n",
       "       224923.07948524, 157534.35513838, 191178.42354603,  96230.43517965,\n",
       "       115807.28651754, 264560.3412984 , 116839.68628744, 167511.28176771,\n",
       "       134096.83979513, 239884.36097658,  83606.62981357, 254344.43682636,\n",
       "       301048.80560153, 204151.49776316, 159274.65669161, 175753.08208011,\n",
       "       208099.97311473, 219806.29500087, 198363.24491389, 217213.46371108,\n",
       "       219680.91716029, 303494.7931586 , 126967.73416102, 233309.39715325,\n",
       "       202248.45411631, 225151.92643948, 256624.16906146, 192818.16134489,\n",
       "       104836.26763677, 188470.53631433, 200945.8919251 , 222681.21926181,\n",
       "       271181.3654874 , 176730.48706381,  84671.86101963, 236603.68898176,\n",
       "       144762.6382365 , 256816.06153674, 163335.98579935, 208734.17693968,\n",
       "       145291.4320997 , 218282.89089792, 123109.6428854 , 142799.17126219,\n",
       "        94407.31981409, 175944.72099066, 214868.26406045, 167555.18960797,\n",
       "       214625.92317986, 251022.46957275, 204485.12566197, 159427.92519883,\n",
       "        72334.27524229, 207509.91652934, 165535.90670611, 256107.03954689,\n",
       "       160243.32674179, 156263.00191303, 235948.26365652,  91249.33505565,\n",
       "       199939.98161045, 191779.76039744, 249450.42846385, 283071.84352007,\n",
       "       276584.49532182, 215385.32642109, 253893.6004002 , 165768.95514163,\n",
       "       243901.69294399, 238009.04782274, 257958.4911094 , 200523.80610116,\n",
       "       188352.64862456, 238567.64769567, 145269.38944426, 121258.88035506,\n",
       "       142699.48752614, 238683.00877783, 208997.48288138, 145979.39831005,\n",
       "       163911.99062001, 157790.55445198, 153783.0827478 , 153184.71478844,\n",
       "       162949.2881856 , 234222.75851066, 224576.55754393, 157625.14331494,\n",
       "       441438.92502033,  58193.69692666,  97673.91140136, 207541.05072343,\n",
       "       156371.36391257, 226614.39421965, 126454.74259491, 176288.80269678,\n",
       "       240069.42015154, 144445.63888406, 178202.17280184, 242370.29090095,\n",
       "       193139.73742806, 170037.74892764, 294122.23504257, 258166.90071921,\n",
       "       268186.03960581, 168537.75847635, 278355.65772881, 231261.89559088,\n",
       "       156734.85793284, 148377.33785221, 272397.82025746, 181462.27297728,\n",
       "       162667.73460554, 216954.56291675, 120476.05263262, 199008.29401353,\n",
       "       239347.23866833, 188937.96162303, 108369.23143636, 201491.34397937,\n",
       "        41495.66539201, 140377.09488487,  88642.72189741, 217312.90716002,\n",
       "       288610.91141119, 258618.79053964, 380818.7499368 , 260904.05365414,\n",
       "       249986.66007124, 180434.33270683, 202459.49097149, 214156.23163648,\n",
       "       238405.10291999, 248237.84710212, 167586.56352791, 145064.05146876,\n",
       "       129536.60092621, 194310.68532783, 146149.08833547, 175492.78919371])"
      ]
     },
     "execution_count": 91,
     "metadata": {},
     "output_type": "execute_result"
    }
   ],
   "source": [
    "# to predict outcomes\n",
    "y_predict"
   ]
  },
  {
   "cell_type": "code",
   "execution_count": 90,
   "id": "8a47131f-9176-4093-a06b-28f8a5f6fa35",
   "metadata": {},
   "outputs": [
    {
     "data": {
      "text/plain": [
       "<matplotlib.collections.PathCollection at 0x1e96ae2bf70>"
      ]
     },
     "execution_count": 90,
     "metadata": {},
     "output_type": "execute_result"
    },
    {
     "data": {
      "image/png": "[encoded data removed]",
      "text/plain": [
       "<Figure size 640x480 with 1 Axes>"
      ]
     },
     "metadata": {},
     "output_type": "display_data"
    }
   ],
   "source": [
    "plt.scatter(y_test,y_predict)"
   ]
  },
  {
   "cell_type": "markdown",
   "id": "499fa288-baca-42eb-ad36-3be5817bad61",
   "metadata": {},
   "source": [
    "# To evaluate model:"
   ]
  },
  {
   "cell_type": "code",
   "execution_count": 98,
   "id": "7492013e-d95c-4b84-bfbe-d62f3c5c798a",
   "metadata": {},
   "outputs": [],
   "source": [
    "from sklearn.metrics import mean_absolute_error,r2_score\n",
    "m=mean_absolute_error(y_test,y_predict)\n",
    "score=r2_score(y_test,y_predict)"
   ]
  },
  {
   "cell_type": "code",
   "execution_count": 95,
   "id": "f968cd52-f111-41b7-a994-72305437f3c1",
   "metadata": {},
   "outputs": [
    {
     "data": {
      "text/plain": [
       "34221.40612086654"
      ]
     },
     "execution_count": 95,
     "metadata": {},
     "output_type": "execute_result"
    }
   ],
   "source": [
    "m"
   ]
  },
  {
   "cell_type": "code",
   "execution_count": 99,
   "id": "56ec4b34-ff1e-4fd4-92ef-2f8e1570514f",
   "metadata": {},
   "outputs": [
    {
     "data": {
      "text/plain": [
       "0.6251419042493946"
      ]
     },
     "execution_count": 99,
     "metadata": {},
     "output_type": "execute_result"
    }
   ],
   "source": [
    "score"
   ]
  },
  {
   "cell_type": "code",
   "execution_count": null,
   "id": "a813719a-4ac6-424b-a570-5d7d83b53e68",
   "metadata": {},
   "outputs": [],
   "source": []
  }
 ],
 "metadata": {
  "kernelspec": {
   "display_name": "Python 3 (ipykernel)",
   "language": "python",
   "name": "python3"
  },
  "language_info": {
   "codemirror_mode": {
    "name": "ipython",
    "version": 3
   },
   "file_extension": ".py",
   "mimetype": "text/x-python",
   "name": "python",
   "nbconvert_exporter": "python",
   "pygments_lexer": "ipython3",
   "version": "3.9.1"
  }
 },
 "nbformat": 4,
 "nbformat_minor": 5
}
